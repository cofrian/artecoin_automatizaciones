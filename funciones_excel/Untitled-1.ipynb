{
 "cells": [
  {
   "cell_type": "code",
   "execution_count": 4,
   "id": "1cb0e559",
   "metadata": {},
   "outputs": [],
   "source": [
    "import pickle\n",
    "\n",
    "with open(\"cookies_catastro.pkl\", \"rb\") as f:\n",
    "    data = pickle.load(f)\n"
   ]
  },
  {
   "cell_type": "code",
   "execution_count": 5,
   "id": "841e6c42",
   "metadata": {},
   "outputs": [
    {
     "data": {
      "text/plain": [
       "<RequestsCookieJar[]>"
      ]
     },
     "execution_count": 5,
     "metadata": {},
     "output_type": "execute_result"
    }
   ],
   "source": [
    "data"
   ]
  },
  {
   "cell_type": "code",
   "execution_count": 8,
   "id": "41b4a77d",
   "metadata": {},
   "outputs": [],
   "source": [
    "import pickle\n",
    "import requests\n",
    "\n",
    "with open(\"cookies_catastro.pkl\", \"rb\") as f:\n",
    "    jar = pickle.load(f)  # esto es un RequestsCookieJar\n",
    "\n"
   ]
  },
  {
   "cell_type": "code",
   "execution_count": 3,
   "id": "6060965f",
   "metadata": {},
   "outputs": [
    {
     "name": "stdout",
     "output_type": "stream",
     "text": [
      "✅ PDF Croquis y Datos guardado.\n",
      "del: 2, mun: 900\n",
      "✅ Foto fachada guardada para referencia: 2382501XJ0128S0001MM\n",
      "✅ PDF Cartografía guardado.\n"
     ]
    }
   ],
   "source": [
    "from scraper_catastro import scrape_catastro\n",
    "\n",
    "referencia = \"2382501XJ0128S0001MM\" \n",
    "nombre_carpeta = \"Edificio_Princesa\"\n",
    "base_dir = r\"Z:\\DOCUMENTACION TRABAJO\\CARPETAS PERSONAL\\SO\"\n",
    "\n",
    "scrape_catastro(referencia, nombre_carpeta, base_dir)\n"
   ]
  },
  {
   "cell_type": "code",
   "execution_count": null,
   "id": "615b2f1e",
   "metadata": {},
   "outputs": [],
   "source": []
  }
 ],
 "metadata": {
  "kernelspec": {
   "display_name": "Python 3",
   "language": "python",
   "name": "python3"
  },
  "language_info": {
   "codemirror_mode": {
    "name": "ipython",
    "version": 3
   },
   "file_extension": ".py",
   "mimetype": "text/x-python",
   "name": "python",
   "nbconvert_exporter": "python",
   "pygments_lexer": "ipython3",
   "version": "3.13.5"
  }
 },
 "nbformat": 4,
 "nbformat_minor": 5
}
